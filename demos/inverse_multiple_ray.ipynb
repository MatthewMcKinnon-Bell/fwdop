{
 "cells": [
  {
   "cell_type": "markdown",
   "id": "74f93cee",
   "metadata": {},
   "source": [
    "# Solution computation from models\n",
    "\n",
    "This notebook demonstrates the calculation of a solution to a model using multiple rays:\n",
    "- Creating Moon models and mesh (M1, M2, M3, weber_core_smooth, weber_core)\n",
    "- Source and receiver definition using fibonacci equidistant spacings at given radii\n",
    "- Computation of travel times\n",
    "- Inversion of data using LU factorization"
   ]
  },
  {
   "cell_type": "code",
   "execution_count": null,
   "id": "407115d6",
   "metadata": {},
   "outputs": [],
   "source": [
    "import numpy as np\n",
    "from sensray import PlanetModel\n",
    "from fwdop import GFwdOp, make_scalar_field\n",
    "from pygeoinf.linear_solvers import LUSolver, CholeskySolver\n",
    "from ray_and_point_generation import get_rays, fibonacci_sphere_points\n",
    "from itertools import product\n",
    "from random import randint"
   ]
  },
  {
   "cell_type": "markdown",
   "id": "13938331",
   "metadata": {},
   "source": [
    "## 1. Creation of Moon model and mesh\n",
    "\n",
    "Creating a model and mesh for ray tracing"
   ]
  },
  {
   "cell_type": "markdown",
   "id": "e272a409",
   "metadata": {},
   "source": [
    "### Creating model\n",
    "\n",
    "Creating a moon model from information stored in .nd file\n",
    "- User-defined model (model_name), mesh size, and inner core mesh size\n",
    "- Model creation of PlanetModel class"
   ]
  },
  {
   "cell_type": "code",
   "execution_count": 29,
   "id": "11fe0d5e",
   "metadata": {},
   "outputs": [],
   "source": [
    "# Load model and create mesh\n",
    "model_name = \"M1\"\n",
    "mesh_size_km = 1000\n",
    "\n",
    "# Create mesh and save if not exist, otherwise load existing\n",
    "mesh_path = \"M1_mesh\"\n",
    "\n",
    "# Load model and create mesh\n",
    "model = PlanetModel.from_standard_model('M1')"
   ]
  },
  {
   "cell_type": "markdown",
   "id": "59ba91a1",
   "metadata": {},
   "source": [
    "### Creating layered tetrahedral mesh\n",
    "\n",
    "Uses a layered tetrahedral mesh to control resolution across discontinuities\n",
    "- User-defined mesh name\n",
    "- Radii and H_layers gathered from the model properties\n",
    "- Populate mesh properties with vp, vs, rho from the file (also gathered from model)"
   ]
  },
  {
   "cell_type": "code",
   "execution_count": 30,
   "id": "8cae8c0d",
   "metadata": {},
   "outputs": [
    {
     "name": "stdout",
     "output_type": "stream",
     "text": [
      "Loaded mesh from M1_mesh.vtu\n",
      "Loaded metadata: 9975 cells, 2258 points\n",
      "Loaded existing mesh from M1_mesh\n",
      "Created mesh: 9975 cells\n"
     ]
    }
   ],
   "source": [
    "try:\n",
    "    model.create_mesh(from_file=mesh_path)\n",
    "    print(f\"Loaded existing mesh from {mesh_path}\")\n",
    "except FileNotFoundError:\n",
    "    print(\"Creating new mesh...\")\n",
    "    radii = model.get_discontinuities()\n",
    "    H_layers = [1000, 600]\n",
    "    model.create_mesh(mesh_size_km=mesh_size_km, radii=radii, H_layers=H_layers)\n",
    "    model.mesh.populate_properties(model.get_info()[\"properties\"])\n",
    "    model.mesh.save(f\"{model_name}_mesh\")  # Save mesh to VT\n",
    "print(f\"Created mesh: {model.mesh.mesh.n_cells} cells\")"
   ]
  },
  {
   "cell_type": "markdown",
   "id": "e59c5976",
   "metadata": {},
   "source": [
    "## 2. Source-Receiver geometry and travel time computation\n",
    "\n",
    "Set up equally spaced sources at the surface (depth 0) and receivers at a constant depth (single depth within range)"
   ]
  },
  {
   "cell_type": "code",
   "execution_count": null,
   "id": "4dbd214d",
   "metadata": {},
   "outputs": [
    {
     "name": "stdout",
     "output_type": "stream",
     "text": [
      "Compute ray for each source-receiver-phase combination...\n",
      "Building obspy.taup model for '/home/matth/Masters-Project/SensRay/sensray/models/M1.nd' ...\n",
      "filename = /home/matth/Masters-Project/SensRay/sensray/models/M1.nd\n",
      "Done reading velocity model.\n",
      "Radius of model . is 1737.1\n",
      "Using parameters provided in TauP_config.ini (or defaults if not) to call SlownessModel...\n",
      "Parameters are:\n",
      "taup.create.min_delta_p = 0.1 sec / radian\n",
      "taup.create.max_delta_p = 11.0 sec / radian\n",
      "taup.create.max_depth_interval = 115.0 kilometers\n",
      "taup.create.max_range_interval = 0.04363323129985824 degrees\n",
      "taup.create.max_interp_error = 0.05 seconds\n",
      "taup.create.allow_inner_core_s = True\n",
      "Slow model  643 P layers,747 S layers\n",
      "Done calculating Tau branches.\n",
      "Done Saving /tmp/M1.npz\n",
      "Method run is done, but not necessarily successful.\n"
     ]
    }
   ],
   "source": [
    "# Generate sources and receivers\n",
    "\n",
    "setup_info = {\n",
    "    \"source\": {\"N\": 5, \"min depth\": 150, \"max depth\": 150},\n",
    "    \"receiver\": {\"N\": 5, \"min depth\": 0, \"max depth\": 0},\n",
    "}\n",
    "\n",
    "# Example usage:\n",
    "# get evenly distributed points at a single depth\n",
    "print(\"Generate equally spaced sources (single depth) and receivers (surface)\")\n",
    "depth = randint(setup_info[\"source\"][\"min depth\"], setup_info[\"source\"][\"max depth\"])\n",
    "sources = fibonacci_sphere_points(5, radius=model.radius-depth, latlon=True)  # 20 sources at 150km depth\n",
    "receivers = fibonacci_sphere_points(5, radius=model.radius, latlon=True)  # 20 stations on Earth radius\n",
    "phases = [\"P\"]\n",
    "print(sources)\n",
    "print(receivers)\n",
    "\n",
    "print(\"Compute ray for each source-receiver-phase combination...\")\n",
    "srr = get_rays(model=model, srp=product(sources, receivers, phases), radius=True)"
   ]
  },
  {
   "cell_type": "markdown",
   "id": "0918b1f4",
   "metadata": {},
   "source": [
    "### Calculate travel times\n",
    "\n",
    "Compute sensitivity kernels and project functions on the mesh\n",
    "\n",
    "Calculate travel times for the function as in other demos"
   ]
  },
  {
   "cell_type": "code",
   "execution_count": null,
   "id": "77e47571",
   "metadata": {},
   "outputs": [
    {
     "name": "stdout",
     "output_type": "stream",
     "text": [
      "Calculate sensitivity kernels and sparse G matrix...\n",
      "Stored sensitivity kernel as cell data: 'K_P_vp'\n",
      "P Kernel Matrix shape: (1, 9975), nnz: 24\n",
      "Scalar field generation...\n",
      "Dv projection onto mesh...\n",
      "Time travel computation...\n",
      "[8.34158499]\n"
     ]
    }
   ],
   "source": [
    "G = GFwdOp(model=model, rays=srr[:,2])\n",
    "\n",
    "# Generate different models and calculate dv\n",
    "functions = {\n",
    "    \"simple\": {\"R\": lambda r: np.ones_like(r), \"T\": lambda theta, phi: np.ones_like(theta)},\n",
    "    \"complex\": {\"R\": lambda r: r**2 * np.exp(-r/100000), \"T\": lambda theta, phi: np.cos(theta)},\n",
    "    \"harmonic\": {\"R\": lambda r: 0.1 * model.get_property_at_radius(radius=r, property_name=\"vp\"), \"T\": lambda theta, phi: 0.5 * np.sqrt(5 / np.pi) * (3 * np.cos(theta) ** 2 - 1)},\n",
    "}\n",
    "\n",
    "func = \"harmonic\"\n",
    "f = make_scalar_field(functions[func][\"R\"], functions[func][\"T\"])\n",
    "\n",
    "model.mesh.project_function_on_mesh(f, property_name=\"dv\")\n",
    "print(\"Cell data 'dv':\", model.mesh.mesh.cell_data[\"dv\"])\n",
    "\n",
    "travel_times = G(model.mesh.mesh.cell_data[\"dv\"])\n",
    "print(travel_times)"
   ]
  },
  {
   "cell_type": "markdown",
   "id": "b02017b3",
   "metadata": {},
   "source": [
    "## 3. Compute inverse operator\n",
    "\n",
    "- Compute inverse solution M_tilde and add to model\n",
    "- Display slice to visualise solution\n"
   ]
  },
  {
   "cell_type": "markdown",
   "id": "4c8e4a55",
   "metadata": {},
   "source": [
    "### Compute cell inverse and M_tilde\n",
    "\n",
    "Compute solution M_tilde (vector of length Nd) from the cell inverse applied to the travel times\n",
    "\n",
    "Add the solution to the cell data"
   ]
  },
  {
   "cell_type": "code",
   "execution_count": null,
   "id": "a3586742",
   "metadata": {},
   "outputs": [
    {
     "name": "stdout",
     "output_type": "stream",
     "text": [
      "True\n"
     ]
    }
   ],
   "source": [
    "print(\"Compute  cell inverse and add to model mesh...\")\n",
    "M_tilde = (G.adjoint@solver(G@G.adjoint))(travel_times)\n",
    "model.mesh.mesh.cell_data[\"solution\"] = M_tilde"
   ]
  },
  {
   "cell_type": "markdown",
   "id": "d11296c0",
   "metadata": {},
   "source": [
    "### Visualise solution\n",
    "\n",
    "Plot the solution as a slice through the sphere on the (0, 1, 0) plane normal"
   ]
  },
  {
   "cell_type": "code",
   "execution_count": null,
   "id": "043cc087",
   "metadata": {},
   "outputs": [],
   "source": [
    "print(\"Solution visualization...\")\n",
    "plotter1 = model.mesh.plot_cross_section(plane_normal=(0, 1, 0), property_name=\"solution\")\n",
    "\n",
    "plotter1.camera.position = (8000, 6000, 10000)\n",
    "\n",
    "plotter1.show()"
   ]
  }
 ],
 "metadata": {
  "kernelspec": {
   "display_name": "masters-project",
   "language": "python",
   "name": "python3"
  },
  "language_info": {
   "codemirror_mode": {
    "name": "ipython",
    "version": 3
   },
   "file_extension": ".py",
   "mimetype": "text/x-python",
   "name": "python",
   "nbconvert_exporter": "python",
   "pygments_lexer": "ipython3",
   "version": "3.11.13"
  }
 },
 "nbformat": 4,
 "nbformat_minor": 5
}
