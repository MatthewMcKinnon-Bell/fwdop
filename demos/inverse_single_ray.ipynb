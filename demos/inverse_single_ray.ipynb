{
 "cells": [
  {
   "cell_type": "markdown",
   "id": "74f93cee",
   "metadata": {},
   "source": [
    "# Solution computation from models\n",
    "\n",
    "This notebook demonstrates the calculation of a solution to a model:\n",
    "- Creating Moon models and mesh (M1, M2, M3, weber_core_smooth, weber_core)\n",
    "- Source and receiver definition with computation of travel times\n",
    "- Inversion of data using LU factorization"
   ]
  },
  {
   "cell_type": "code",
   "execution_count": null,
   "id": "407115d6",
   "metadata": {},
   "outputs": [],
   "source": [
    "import numpy as np\n",
    "from sensray import PlanetModel\n",
    "from fwdop import GFwdOp, make_scalar_field\n",
    "from pygeoinf.linear_solvers import LUSolver, CholeskySolver"
   ]
  },
  {
   "cell_type": "markdown",
   "id": "13938331",
   "metadata": {},
   "source": [
    "## 1. Creation of Moon model and mesh\n",
    "\n",
    "Creating a model and mesh for ray tracing"
   ]
  },
  {
   "cell_type": "markdown",
   "id": "e272a409",
   "metadata": {},
   "source": [
    "### Creating model\n",
    "\n",
    "Creating a moon model from information stored in .nd file\n",
    "- User-defined model (model_name), mesh size, and inner core mesh size\n",
    "- Model creation of PlanetModel class"
   ]
  },
  {
   "cell_type": "code",
   "execution_count": 29,
   "id": "11fe0d5e",
   "metadata": {},
   "outputs": [],
   "source": [
    "# Load model and create mesh\n",
    "model_name = \"M1\"\n",
    "mesh_size_km = 1000\n",
    "\n",
    "# Create mesh and save if not exist, otherwise load existing\n",
    "mesh_path = \"M1_mesh\"\n",
    "\n",
    "# Load model and create mesh\n",
    "model = PlanetModel.from_standard_model('M1')"
   ]
  },
  {
   "cell_type": "markdown",
   "id": "59ba91a1",
   "metadata": {},
   "source": [
    "### Creating layered tetrahedral mesh\n",
    "\n",
    "Uses a layered tetrahedral mesh to control resolution across discontinuities\n",
    "- User-defined mesh name\n",
    "- Radii and H_layers gathered from the model properties\n",
    "- Populate mesh properties with vp, vs, rho from the file (also gathered from model)"
   ]
  },
  {
   "cell_type": "code",
   "execution_count": 30,
   "id": "8cae8c0d",
   "metadata": {},
   "outputs": [
    {
     "name": "stdout",
     "output_type": "stream",
     "text": [
      "Loaded mesh from M1_mesh.vtu\n",
      "Loaded metadata: 9975 cells, 2258 points\n",
      "Loaded existing mesh from M1_mesh\n",
      "Created mesh: 9975 cells\n"
     ]
    }
   ],
   "source": [
    "try:\n",
    "    model.create_mesh(from_file=mesh_path)\n",
    "    print(f\"Loaded existing mesh from {mesh_path}\")\n",
    "except FileNotFoundError:\n",
    "    print(\"Creating new mesh...\")\n",
    "    radii = model.get_discontinuities()\n",
    "    H_layers = [1000, 600]\n",
    "    model.create_mesh(mesh_size_km=mesh_size_km, radii=radii, H_layers=H_layers)\n",
    "    model.mesh.populate_properties(model.get_info()[\"properties\"])\n",
    "    model.mesh.save(f\"{model_name}_mesh\")  # Save mesh to VT\n",
    "print(f\"Created mesh: {model.mesh.mesh.n_cells} cells\")"
   ]
  },
  {
   "cell_type": "markdown",
   "id": "e59c5976",
   "metadata": {},
   "source": [
    "## 2. Source-Receiver geometry and travel time computation\n",
    "\n",
    "Set up realistic earthquake-station-phase ray generation"
   ]
  },
  {
   "cell_type": "code",
   "execution_count": 31,
   "id": "4dbd214d",
   "metadata": {},
   "outputs": [
    {
     "name": "stdout",
     "output_type": "stream",
     "text": [
      "Compute ray for each source-receiver-phase combination...\n",
      "Building obspy.taup model for '/home/matth/Masters-Project/SensRay/sensray/models/M1.nd' ...\n",
      "filename = /home/matth/Masters-Project/SensRay/sensray/models/M1.nd\n",
      "Done reading velocity model.\n",
      "Radius of model . is 1737.1\n",
      "Using parameters provided in TauP_config.ini (or defaults if not) to call SlownessModel...\n",
      "Parameters are:\n",
      "taup.create.min_delta_p = 0.1 sec / radian\n",
      "taup.create.max_delta_p = 11.0 sec / radian\n",
      "taup.create.max_depth_interval = 115.0 kilometers\n",
      "taup.create.max_range_interval = 0.04363323129985824 degrees\n",
      "taup.create.max_interp_error = 0.05 seconds\n",
      "taup.create.allow_inner_core_s = True\n",
      "Slow model  643 P layers,747 S layers\n",
      "Done calculating Tau branches.\n",
      "Done Saving /tmp/M1.npz\n",
      "Method run is done, but not necessarily successful.\n"
     ]
    }
   ],
   "source": [
    "# testing with one source-receiver pair - produces same matrix as with other demos\n",
    "source_lat, source_lon, source_depth = 0.0, 0.0, 150.0  # Equator, 150 km depth\n",
    "receiver_lat, receiver_lon = 30.0, 45.0  # Surface station\n",
    "srp = [((source_lat, source_lon, source_depth), (receiver_lat, receiver_lon), [\"P\"])]\n",
    "\n",
    "def get_rays(srp):\n",
    "    '''\n",
    "    srp: list of tuples (source, receiver, phases)\n",
    "    where source = (lat, lon, depth), receiver = (lat, lon), phases = [phase1, phase2, ...]\n",
    "    returns array of (source, receiver, ray) for each ray\n",
    "    '''\n",
    "    srr_list = []\n",
    "    for (source, receiver, phases) in srp:\n",
    "        rays = model.taupy_model.get_ray_paths_geo(\n",
    "            source_depth_in_km=source[2],\n",
    "            source_latitude_in_deg=source[0],\n",
    "            source_longitude_in_deg=source[1],\n",
    "            receiver_latitude_in_deg=receiver[0],\n",
    "            receiver_longitude_in_deg=receiver[1],\n",
    "            phase_list=phases,\n",
    "        )\n",
    "        for ray in rays:\n",
    "            srr_list.append((source, receiver, ray))\n",
    "\n",
    "    return np.array(srr_list, dtype=object)\n",
    "\n",
    "\n",
    "print(\"Compute ray for each source-receiver-phase combination...\")\n",
    "srr = get_rays(srp)"
   ]
  },
  {
   "cell_type": "markdown",
   "id": "0918b1f4",
   "metadata": {},
   "source": [
    "### Calculate travel times\n",
    "\n",
    "Compute sensitivity kernels and project functions on the mesh\n",
    "\n",
    "Calculate travel times for the function as in other demos"
   ]
  },
  {
   "cell_type": "code",
   "execution_count": 32,
   "id": "77e47571",
   "metadata": {},
   "outputs": [
    {
     "name": "stdout",
     "output_type": "stream",
     "text": [
      "Calculate sensitivity kernels and sparse G matrix...\n",
      "Stored sensitivity kernel as cell data: 'K_P_vp'\n",
      "P Kernel Matrix shape: (1, 9975), nnz: 24\n",
      "Scalar field generation...\n",
      "Dv projection onto mesh...\n",
      "Time travel computation...\n",
      "[8.34158499]\n"
     ]
    }
   ],
   "source": [
    "print(\"Calculate sensitivity kernels and sparse G matrix...\")\n",
    "G = GFwdOp(model, srr[:,2])\n",
    "G.save_matrix(\"M1_sp_G_mat.npz\")\n",
    "\n",
    "# Generating a scalar field from functions in R, T\n",
    "print(f\"Scalar field generation...\")\n",
    "\n",
    "functions = {\n",
    "    \"simple\": {\"R\": lambda r: np.ones_like(r), \"T\": lambda theta, phi: np.ones_like(theta)},\n",
    "    \"complex\": {\"R\": lambda r: r**2 * np.exp(-r/100000), \"T\": lambda theta, phi: np.cos(theta)},\n",
    "    \"harmonic\": {\"R\": lambda r: 0.1 * model.get_property_at_radius(radius=r, property_name=\"vp\"), \"T\": lambda theta, phi: 0.5 * np.sqrt(5 / np.pi) * (3 * np.cos(theta) ** 2 - 1)},\n",
    "}\n",
    "\n",
    "func = \"harmonic\"\n",
    "f = make_scalar_field(functions[func][\"R\"], functions[func][\"T\"])\n",
    "\n",
    "print(\"Dv projection onto mesh...\")\n",
    "model.mesh.project_function_on_mesh(f, property_name=\"dv\")\n",
    "\n",
    "print(\"Time travel computation...\")\n",
    "travel_times = G(model.mesh.mesh.cell_data[\"dv\"])\n",
    "print(travel_times)"
   ]
  },
  {
   "cell_type": "markdown",
   "id": "b02017b3",
   "metadata": {},
   "source": [
    "## 3. Compute inverse operator\n",
    "\n",
    "- Test adjoint operation\n",
    "- Compute and test lambda (lambda = GG^T)\n",
    "- Define and test solver\n",
    "- Compute and test tilde_M (tilde_M = G_dagger(d) where d=G(m))\n"
   ]
  },
  {
   "cell_type": "markdown",
   "id": "a985bbe2",
   "metadata": {},
   "source": [
    "### Adjoint Operation\n",
    "\n",
    "Test adjoint - Correct if G.adjoint(v) = first kernel (G._K)"
   ]
  },
  {
   "cell_type": "code",
   "execution_count": 33,
   "id": "b8af899b",
   "metadata": {},
   "outputs": [
    {
     "name": "stdout",
     "output_type": "stream",
     "text": [
      "Test Adjoint Success: True\n"
     ]
    }
   ],
   "source": [
    "kernel_choice = 0  # desired kernel\n",
    "v = np.zeros(G._K.shape[0])\n",
    "v[kernel_choice] = 1\n",
    "print(f\"Test Adjoint Success: {np.allclose(G.adjoint(v), G._K.getrow(kernel_choice).toarray().ravel())}\")"
   ]
  },
  {
   "cell_type": "markdown",
   "id": "e983d5f3",
   "metadata": {},
   "source": [
    "### Lambda Operation\n",
    "\n",
    "Compute lambda from G and G.adjoint (GG^T)\n",
    "\n",
    "Test lambda - Correct if dense matrix is symmetric"
   ]
  },
  {
   "cell_type": "code",
   "execution_count": 34,
   "id": "460a07cd",
   "metadata": {},
   "outputs": [
    {
     "name": "stdout",
     "output_type": "stream",
     "text": [
      "Test lambda Success: True\n"
     ]
    }
   ],
   "source": [
    "# Compute lambda from G and G.adjoint (GG^T)\n",
    "lambda_val = (G@G.adjoint)\n",
    "# Test lambda - Correct if dense matrix is symmetric\n",
    "print(f\"Test lambda Success: {np.allclose(lambda_val.matrix(dense=True), lambda_val.matrix(dense=True).T)}\")"
   ]
  },
  {
   "cell_type": "markdown",
   "id": "a4c82558",
   "metadata": {},
   "source": [
    "### Define and test solver\n",
    "\n",
    "Define what type of linear solver you want to use (LU, Cholesky, etc)\n",
    "\n",
    "Apply to lambda to return lambda inverse\n",
    "\n",
    "Test solver - Shouldn't raise any kinds of errors"
   ]
  },
  {
   "cell_type": "code",
   "execution_count": null,
   "id": "f0cab4c2",
   "metadata": {},
   "outputs": [],
   "source": [
    "# Test solver - Shouldn't raise an error of any kind\n",
    "solver = LUSolver()\n",
    "lambda_inv = solver(lambda_val)"
   ]
  },
  {
   "cell_type": "markdown",
   "id": "4c8e4a55",
   "metadata": {},
   "source": [
    "### Compute cell inverse and M_tilde\n",
    "\n",
    "Compute the cell inverse (G_dagger) from G adjoint and lambda inverse\n",
    "\n",
    "Compute solution M_tilde (vector of length Nd) from the cell inverse applied to the travel times\n",
    "\n",
    "Add the solution to the cell data"
   ]
  },
  {
   "cell_type": "code",
   "execution_count": null,
   "id": "a3586742",
   "metadata": {},
   "outputs": [
    {
     "name": "stdout",
     "output_type": "stream",
     "text": [
      "True\n"
     ]
    }
   ],
   "source": [
    "# G_dagger - Should compute cell inverse\n",
    "G_dagger = G.adjoint@lambda_inv\n",
    "\n",
    "# M_tilde - G_dagger(d) where d is G applied onto the model. Dims N voxels\n",
    "M_tilde = G_dagger(travel_times)\n",
    "\n",
    "model.mesh.mesh.cell_data[\"solution\"] = M_tilde\n",
    "\n",
    "# Test - For a single ray (getting 0th row) M_tilde = kernel * G(m) / lambda\n",
    "print(f\"Single ray inverse calculation: {np.allclose(M_tilde, (G.matrix(dense=True) * travel_times / lambda_val.matrix(dense=True))[0])}\")"
   ]
  }
 ],
 "metadata": {
  "kernelspec": {
   "display_name": "masters-project",
   "language": "python",
   "name": "python3"
  },
  "language_info": {
   "codemirror_mode": {
    "name": "ipython",
    "version": 3
   },
   "file_extension": ".py",
   "mimetype": "text/x-python",
   "name": "python",
   "nbconvert_exporter": "python",
   "pygments_lexer": "ipython3",
   "version": "3.11.13"
  }
 },
 "nbformat": 4,
 "nbformat_minor": 5
}
