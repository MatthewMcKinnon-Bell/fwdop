{
 "cells": [
  {
   "cell_type": "markdown",
   "id": "74f93cee",
   "metadata": {},
   "source": [
    "# Dv and travel time computation from models\n",
    "\n",
    "This notebook demonstrates the generation of moon models and their corresponding dv and travel times:\n",
    "- Creating Moon models and mesh (M1, M2, M3, weber_core_smooth, weber_core)\n",
    "- Sources, receivers, and phases with rays computed\n",
    "- Computation and visualization of sensitivity kernels with sparse G matrix calculation\n",
    "- Delta V scalar field generation, projection, and visualisation\n",
    "- Computation of travel times using dv with G"
   ]
  },
  {
   "cell_type": "code",
   "execution_count": 1,
   "id": "407115d6",
   "metadata": {},
   "outputs": [],
   "source": [
    "import numpy as np\n",
    "from sensray import PlanetModel\n",
    "from fwdop import GFwdOp, make_scalar_field"
   ]
  },
  {
   "cell_type": "markdown",
   "id": "13938331",
   "metadata": {},
   "source": [
    "## 1. Creation of Moon model and mesh\n",
    "\n",
    "Creating a model and mesh for ray tracing"
   ]
  },
  {
   "cell_type": "markdown",
   "id": "e272a409",
   "metadata": {},
   "source": [
    "### Creating model\n",
    "\n",
    "Creating a moon model from information stored in .nd file\n",
    "- User-defined model (model_name), mesh size, and inner core mesh size\n",
    "- Model creation of PlanetModel class"
   ]
  },
  {
   "cell_type": "code",
   "execution_count": 2,
   "id": "11fe0d5e",
   "metadata": {},
   "outputs": [],
   "source": [
    "# Load model and create mesh\n",
    "model_name = \"M1\"\n",
    "mesh_size_km = 1000\n",
    "\n",
    "# Create mesh and save if not exist, otherwise load existing\n",
    "mesh_path = \"M1_mesh\"\n",
    "\n",
    "# Load model and create mesh\n",
    "model = PlanetModel.from_standard_model('M1')"
   ]
  },
  {
   "cell_type": "markdown",
   "id": "59ba91a1",
   "metadata": {},
   "source": [
    "### Creating layered tetrahedral mesh\n",
    "\n",
    "Uses a layered tetrahedral mesh to control resolution across discontinuities\n",
    "- User-defined mesh name\n",
    "- Radii and H_layers gathered from the model properties\n",
    "- Populate mesh properties with vp, vs, rho from the file (also gathered from model)"
   ]
  },
  {
   "cell_type": "code",
   "execution_count": 3,
   "id": "8cae8c0d",
   "metadata": {},
   "outputs": [
    {
     "name": "stdout",
     "output_type": "stream",
     "text": [
      "Loaded mesh from M1_mesh.vtu\n",
      "Loaded metadata: 9975 cells, 2258 points\n",
      "Loaded existing mesh from M1_mesh\n",
      "Created mesh: 9975 cells\n"
     ]
    }
   ],
   "source": [
    "try:\n",
    "    model.create_mesh(from_file=mesh_path)\n",
    "    print(f\"Loaded existing mesh from {mesh_path}\")\n",
    "except FileNotFoundError:\n",
    "    print(\"Creating new mesh...\")\n",
    "    radii = model.get_discontinuities()\n",
    "    H_layers = [1000, 600]\n",
    "    model.create_mesh(mesh_size_km=mesh_size_km, radii=radii, H_layers=H_layers)\n",
    "    model.mesh.populate_properties(model.get_info()[\"properties\"])\n",
    "    model.mesh.save(f\"{model_name}_mesh\")  # Save mesh to VT\n",
    "print(f\"Created mesh: {model.mesh.mesh.n_cells} cells\")"
   ]
  },
  {
   "cell_type": "markdown",
   "id": "e59c5976",
   "metadata": {},
   "source": [
    "## 2. Define Source-Receiver Geometry\n",
    "\n",
    "Set up realistic earthquake-station-phase and translate to earthquake-station-ray combination."
   ]
  },
  {
   "cell_type": "markdown",
   "id": "2d0bf972",
   "metadata": {},
   "source": [
    "### Point generation\n",
    "\n",
    "Using predefined single source-receiver-phase to generate a ray"
   ]
  },
  {
   "cell_type": "code",
   "execution_count": 4,
   "id": "4dbd214d",
   "metadata": {},
   "outputs": [],
   "source": [
    "# testing with one source-receiver pair - same as initial test\n",
    "source_lat, source_lon, source_depth = 0.0, 0.0, 150.0  # Equator, 150 km depth\n",
    "receiver_lat, receiver_lon = 30.0, 45.0  # Surface station\n",
    "srp = [((source_lat, source_lon, source_depth), (receiver_lat, receiver_lon), [\"P\", \"S\", \"ScS\"])]"
   ]
  },
  {
   "cell_type": "markdown",
   "id": "4d904c79",
   "metadata": {},
   "source": [
    "### Ray tracing with taup\n",
    "\n",
    "Function to generate a ray using taup for each phase of interest for each source-receiver pair. Save as a list of lists of [source-receiver-ray] to be passed into the forward operatot"
   ]
  },
  {
   "cell_type": "code",
   "execution_count": 5,
   "id": "066a274b",
   "metadata": {},
   "outputs": [
    {
     "name": "stdout",
     "output_type": "stream",
     "text": [
      "Compute ray for each source-receiver-phase combination...\n",
      "Building obspy.taup model for '/home/matth/Masters-Project/SensRay/sensray/models/M1.nd' ...\n",
      "filename = /home/matth/Masters-Project/SensRay/sensray/models/M1.nd\n",
      "Done reading velocity model.\n",
      "Radius of model . is 1737.1\n",
      "Using parameters provided in TauP_config.ini (or defaults if not) to call SlownessModel...\n",
      "Parameters are:\n",
      "taup.create.min_delta_p = 0.1 sec / radian\n",
      "taup.create.max_delta_p = 11.0 sec / radian\n",
      "taup.create.max_depth_interval = 115.0 kilometers\n",
      "taup.create.max_range_interval = 0.04363323129985824 degrees\n",
      "taup.create.max_interp_error = 0.05 seconds\n",
      "taup.create.allow_inner_core_s = True\n",
      "Slow model  643 P layers,747 S layers\n",
      "Done calculating Tau branches.\n",
      "Done Saving /tmp/M1.npz\n",
      "Method run is done, but not necessarily successful.\n"
     ]
    }
   ],
   "source": [
    "def get_rays(srp):\n",
    "    '''\n",
    "    srp: list of tuples (source, receiver, phases)\n",
    "    where source = (lat, lon, depth), receiver = (lat, lon), phases = [phase1, phase2, ...]\n",
    "    returns array of (source, receiver, ray) for each ray\n",
    "    '''\n",
    "    srr_list = []\n",
    "    for (source, receiver, phases) in srp:\n",
    "        rays = model.taupy_model.get_ray_paths_geo(\n",
    "            source_depth_in_km=source[2],\n",
    "            source_latitude_in_deg=source[0],\n",
    "            source_longitude_in_deg=source[1],\n",
    "            receiver_latitude_in_deg=receiver[0],\n",
    "            receiver_longitude_in_deg=receiver[1],\n",
    "            phase_list=phases,\n",
    "        )\n",
    "        for ray in rays:\n",
    "            srr_list.append((source, receiver, ray))\n",
    "\n",
    "    return np.array(srr_list, dtype=object)\n",
    "\n",
    "\n",
    "print(\"Compute ray for each source-receiver-phase combination...\")\n",
    "srr = get_rays(srp)"
   ]
  },
  {
   "cell_type": "markdown",
   "id": "134c67a2",
   "metadata": {},
   "source": [
    "## 3. Compute sensitivity kernels and G matrix\n",
    "\n",
    "Compute travel-time sensitivity kernels: K = -L / v² for each ray using GFwdOp(LinearOperator) and store as a sparse G matrix"
   ]
  },
  {
   "cell_type": "code",
   "execution_count": 6,
   "id": "7b4edc83",
   "metadata": {},
   "outputs": [
    {
     "name": "stdout",
     "output_type": "stream",
     "text": [
      "Calculate sensitivity kernels and sparse G matrix...\n",
      "Stored sensitivity kernel as cell data: 'K_P_vp'\n",
      "Stored sensitivity kernel as cell data: 'K_S_vs'\n",
      "Stored sensitivity kernel as cell data: 'K_ScS_vs'\n",
      "Stored sensitivity kernel as cell data: 'K_S_vs'\n",
      "Stored sensitivity kernel as cell data: 'K_ScS_vs'\n",
      "P Kernel Matrix shape: (1, 9975), nnz: 24\n",
      "S Kernel Matrix shape: (2, 9975), nnz: 59\n",
      "ScS Kernel Matrix shape: (2, 9975), nnz: 122\n"
     ]
    }
   ],
   "source": [
    "print(\"Calculate sensitivity kernels and sparse G matrix...\")\n",
    "G = GFwdOp(model, srr[:,2])"
   ]
  },
  {
   "cell_type": "markdown",
   "id": "71b0dd37",
   "metadata": {},
   "source": [
    "# 4. Create Dv and apply to G\n",
    "\n",
    "Create vectorized scalar field from radial and angular functions R(r), T(θ,φ) then project onto the mesh. Apply Dv to G to compute travel times. Choice of functions to use"
   ]
  },
  {
   "cell_type": "markdown",
   "id": "bdddc6ea",
   "metadata": {},
   "source": [
    "### Scalar field generation\n",
    "\n",
    "Import function to convert radial and angular functions to a vectorized scalar function in f(x,y,z)"
   ]
  },
  {
   "cell_type": "code",
   "execution_count": 7,
   "id": "36bfd18a",
   "metadata": {},
   "outputs": [
    {
     "name": "stdout",
     "output_type": "stream",
     "text": [
      "Scalar field generation...\n"
     ]
    }
   ],
   "source": [
    "# Generating a scalar field from functions in R, T\n",
    "print(f\"Scalar field generation...\")\n",
    "\n",
    "functions = {\n",
    "    \"simple\": {\"R\": lambda r: np.ones_like(r), \"T\": lambda theta, phi: np.ones_like(theta)},\n",
    "    \"complex\": {\"R\": lambda r: r**2 * np.exp(-r/100000), \"T\": lambda theta, phi: np.cos(theta)},\n",
    "    \"harmonic\": {\"R\": lambda r: 0.1 * model.get_property_at_radius(radius=r, property_name=\"vp\"), \"T\": lambda theta, phi: 0.5 * np.sqrt(5 / np.pi) * (3 * np.cos(theta) ** 2 - 1)},\n",
    "}\n",
    "\n",
    "func = \"harmonic\"\n",
    "f = make_scalar_field(functions[func][\"R\"], functions[func][\"T\"])"
   ]
  },
  {
   "cell_type": "markdown",
   "id": "6a1274fb",
   "metadata": {},
   "source": [
    "### Dv mesh projection and visualisation\n",
    "\n",
    "Project scalar field onto the mesh to calculate dv"
   ]
  },
  {
   "cell_type": "code",
   "execution_count": 8,
   "id": "dae9f2b3",
   "metadata": {},
   "outputs": [
    {
     "name": "stdout",
     "output_type": "stream",
     "text": [
      "Dv projection onto mesh...\n"
     ]
    }
   ],
   "source": [
    "print(\"Dv projection onto mesh...\")\n",
    "model.mesh.project_function_on_mesh(f, property_name=\"dv\")"
   ]
  },
  {
   "cell_type": "markdown",
   "id": "7aef2392",
   "metadata": {},
   "source": [
    "Visualise dv field using wrapper in mesh and first source-receiver pair for calculation of plane for slice"
   ]
  },
  {
   "cell_type": "code",
   "execution_count": 9,
   "id": "5823d5bf",
   "metadata": {},
   "outputs": [
    {
     "name": "stdout",
     "output_type": "stream",
     "text": [
      "Dv visualization...\n",
      "Background P-wave velocity:\n"
     ]
    },
    {
     "data": {
      "application/vnd.jupyter.widget-view+json": {
       "model_id": "7874d5eacd0346308770badffaf04ef1",
       "version_major": 2,
       "version_minor": 0
      },
      "text/plain": [
       "Widget(value='<iframe src=\"http://localhost:43473/index.html?ui=P_0x7c04a246ed10_0&reconnect=auto\" class=\"pyvi…"
      ]
     },
     "metadata": {},
     "output_type": "display_data"
    }
   ],
   "source": [
    "print(\"Dv visualization...\")\n",
    "model.mesh.display_dv(srr[0,0][0], srr[0,0][1], srr[0,1][0], srr[0,1][1], property_name=\"dv\")"
   ]
  },
  {
   "cell_type": "markdown",
   "id": "adee95aa",
   "metadata": {},
   "source": [
    "### Time travel computation\n",
    "\n",
    "Apply dv to G forward operator to compute travel times."
   ]
  },
  {
   "cell_type": "code",
   "execution_count": 10,
   "id": "cfa03b30",
   "metadata": {},
   "outputs": [
    {
     "name": "stdout",
     "output_type": "stream",
     "text": [
      "Time travel computation...\n",
      "[ 8.34158499 25.28607367 43.01808839 89.37476113 57.58353932]\n"
     ]
    }
   ],
   "source": [
    "print(\"Time travel computation...\")\n",
    "travel_times = G(model.mesh.mesh.cell_data[\"dv\"])\n",
    "print(travel_times)"
   ]
  }
 ],
 "metadata": {
  "kernelspec": {
   "display_name": "masters-project",
   "language": "python",
   "name": "python3"
  },
  "language_info": {
   "codemirror_mode": {
    "name": "ipython",
    "version": 3
   },
   "file_extension": ".py",
   "mimetype": "text/x-python",
   "name": "python",
   "nbconvert_exporter": "python",
   "pygments_lexer": "ipython3",
   "version": "3.11.13"
  }
 },
 "nbformat": 4,
 "nbformat_minor": 5
}
